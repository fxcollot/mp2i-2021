{
 "cells": [
  {
   "cell_type": "code",
   "execution_count": 1,
   "id": "4f00590d-b4e0-4f14-b4d8-06edee111509",
   "metadata": {
    "execution": {
     "iopub.execute_input": "2022-03-03T13:34:17.358822Z",
     "iopub.status.busy": "2022-03-03T13:34:17.358126Z",
     "iopub.status.idle": "2022-03-03T13:34:17.401665Z",
     "shell.execute_reply": "2022-03-03T13:34:17.402020Z"
    },
    "kernel": "C++17",
    "tags": []
   },
   "outputs": [
    {
     "ename": "ParsingError",
     "evalue": "File contains parsing errors: \n\t[line  2]: int max(int a, int b) {\n    return a < b ? b : a;\n}\n\nInvalid statements: SyntaxError('invalid syntax', ('<string>', 1, 5, 'int max(int a, int b) {\\n'))",
     "output_type": "error",
     "traceback": [
      "\u001b[91mFile contains parsing errors: \n\t[line  2]: int max(int a, int b) {\n    return a < b ? b : a;\n}\n\nInvalid statements: SyntaxError('invalid syntax', ('<string>', 1, 5, 'int max(int a, int b) {\\n'))\u001b[0m"
     ]
    }
   ],
   "source": [
    "int max(int a, int b) {\n",
    "    return a < b ? b : a;\n",
    "}"
   ]
  },
  {
   "cell_type": "code",
   "execution_count": 2,
   "id": "2bd2a55c-b2f3-4ae4-8896-0210ba67a0ad",
   "metadata": {
    "execution": {
     "iopub.execute_input": "2022-03-03T13:34:17.405287Z",
     "iopub.status.busy": "2022-03-03T13:34:17.404863Z",
     "iopub.status.idle": "2022-03-03T13:34:17.407918Z",
     "shell.execute_reply": "2022-03-03T13:34:17.408272Z"
    },
    "kernel": "C++17",
    "tags": []
   },
   "outputs": [
    {
     "ename": "ParsingError",
     "evalue": "File contains parsing errors: \n\t[line  5]: int knapsack(int c, int n, int *w, int *v) {\n    int *dp = (int*)malloc((c + 1)*sizeof(int));\n    for (int i = 0; i <= c; i++)\n        dp[i] = 0;\n\n\nInvalid statements: SyntaxError('invalid syntax', ('<string>', 1, 5, 'int knapsack(int c, int n, int *w, int *v) {\\n'))",
     "output_type": "error",
     "traceback": [
      "\u001b[91mFile contains parsing errors: \n\t[line  5]: int knapsack(int c, int n, int *w, int *v) {\n    int *dp = (int*)malloc((c + 1)*sizeof(int));\n    for (int i = 0; i <= c; i++)\n        dp[i] = 0;\n\n\nInvalid statements: SyntaxError('invalid syntax', ('<string>', 1, 5, 'int knapsack(int c, int n, int *w, int *v) {\\n'))\u001b[0m"
     ]
    }
   ],
   "source": [
    "#include <stdio.h>\n",
    "#include <stdlib.h>\n",
    "\n",
    "int knapsack(int c, int n, int *w, int *v) {\n",
    "    int *dp = (int*)malloc((c + 1)*sizeof(int));\n",
    "    for (int i = 0; i <= c; i++)\n",
    "        dp[i] = 0;\n",
    "\n",
    "    for (int j = 0; j <= n; j++) {\n",
    "        int *dp_ = (int*)malloc((c + 1)*sizeof(int));\n",
    "        memcpy(dp_, dp, (c + 1)*sizeof(int));\n",
    "        for (int i = 0; i <= c; i++)\n",
    "            if (w[j] <= i)\n",
    "                dp[i] = max(dp[i], v[j] + dp_[i - w[j]]);\n",
    "    }\n",
    "    return dp[c];\n",
    "}\n",
    "\n",
    "int weights[] = {2, 3, 6, 5, 8, 2, 2};\n",
    "int values[] = {1, 7, 10, 10, 13, 1, 1};\n",
    "knapsack(10, 7, weights, values)"
   ]
  },
  {
   "cell_type": "code",
   "execution_count": 3,
   "id": "128f3416-e1e0-46fb-bc3f-816bbaf61bc6",
   "metadata": {
    "execution": {
     "iopub.execute_input": "2022-03-03T13:34:17.411647Z",
     "iopub.status.busy": "2022-03-03T13:34:17.410473Z",
     "iopub.status.idle": "2022-03-03T13:34:17.413019Z",
     "shell.execute_reply": "2022-03-03T13:34:17.413366Z"
    },
    "kernel": "OCaml default",
    "tags": []
   },
   "outputs": [
    {
     "ename": "ParsingError",
     "evalue": "File contains parsing errors: \n\t[line  2]: let fibo n =\n  let module M = Map.Make(Int) in\n  let rec aux i d =\n    if i <= 2 then 1, d\n    else match M.find_opt i d with\n\nInvalid statements: SyntaxError('invalid syntax', ('<string>', 1, 5, 'let fibo n =\\n'))",
     "output_type": "error",
     "traceback": [
      "\u001b[91mFile contains parsing errors: \n\t[line  2]: let fibo n =\n  let module M = Map.Make(Int) in\n  let rec aux i d =\n    if i <= 2 then 1, d\n    else match M.find_opt i d with\n\nInvalid statements: SyntaxError('invalid syntax', ('<string>', 1, 5, 'let fibo n =\\n'))\u001b[0m"
     ]
    }
   ],
   "source": [
    "let fibo n =\n",
    "  let module M = Map.Make(Int) in\n",
    "  let rec aux i d =\n",
    "    if i <= 2 then 1, d\n",
    "    else match M.find_opt i d with\n",
    "      | Some v -> v, d\n",
    "      | None ->\n",
    "          let v1, d1 = aux (i - 1) d in\n",
    "          let v2, d2 = aux (i - 2) d1 in\n",
    "          v1 + v2, M.add i (v1 + v2) d2\n",
    "  in aux n M.empty |> fst;;\n",
    "  \n",
    "fibo 10"
   ]
  },
  {
   "cell_type": "code",
   "execution_count": 4,
   "id": "0ee7550c-e019-457c-82a5-d0ae6ce98791",
   "metadata": {
    "execution": {
     "iopub.execute_input": "2022-03-03T13:34:17.417288Z",
     "iopub.status.busy": "2022-03-03T13:34:17.416780Z",
     "iopub.status.idle": "2022-03-03T13:34:17.418649Z",
     "shell.execute_reply": "2022-03-03T13:34:17.418997Z"
    },
    "kernel": "OCaml default",
    "tags": []
   },
   "outputs": [
    {
     "ename": "ParsingError",
     "evalue": "File contains parsing errors: \n\t[line  2]: module T = struct\n    type t = int*int\n    let compare p q = fst p - fst q\nend\n\n\nInvalid statements: SyntaxError('invalid syntax', ('<string>', 1, 8, 'module T = struct\\n'))",
     "output_type": "error",
     "traceback": [
      "\u001b[91mFile contains parsing errors: \n\t[line  2]: module T = struct\n    type t = int*int\n    let compare p q = fst p - fst q\nend\n\n\nInvalid statements: SyntaxError('invalid syntax', ('<string>', 1, 8, 'module T = struct\\n'))\u001b[0m"
     ]
    }
   ],
   "source": [
    "module T = struct\n",
    "    type t = int*int\n",
    "    let compare p q = fst p - fst q\n",
    "end\n",
    "\n",
    "let knapsack c v w =\n",
    "    let module M = Map.Make(T) in\n",
    "    let rec aux i j m = match M.find_opt (i, j) m with\n",
    "        | Some r -> r, m\n",
    "        | None ->\n",
    "            if j = 0 then 0, m\n",
    "            else let r1, m1 = aux i (j - 1) m in\n",
    "            if w.(j) > i then r1, m1\n",
    "            else \n",
    "                let r2, m2 = aux (i - w.(j)) (j - 1) m1 in\n",
    "                let r2 = r2 + v.(j) in\n",
    "                max r1 r2, M.add (i, j) r2 m2\n",
    "    in fst (aux c (Array.length v - 1) M.empty);;\n",
    "\n",
    "let w = [|2; 3; 6; 5; 8; 2; 2|] in\n",
    "let v = [|1; 7; 10; 10; 13; 1; 1|] in\n",
    "knapsack 10 v w"
   ]
  },
  {
   "cell_type": "code",
   "execution_count": null,
   "id": "60099944-64c8-421e-965d-6680c1a1163b",
   "metadata": {
    "kernel": "SoS"
   },
   "outputs": [],
   "source": []
  }
 ],
 "metadata": {
  "kernelspec": {
   "display_name": "SoS",
   "language": "sos",
   "name": "sos"
  },
  "language_info": {
   "codemirror_mode": "sos",
   "file_extension": ".sos",
   "mimetype": "text/x-sos",
   "name": "sos",
   "nbconvert_exporter": "sos_notebook.converter.SoS_Exporter",
   "pygments_lexer": "sos"
  },
  "sos": {
   "kernels": [
    [
     "C++17",
     "xcpp17",
     "C++17",
     "",
     "text/x-c++src"
    ],
    [
     "OCaml default",
     "ocaml-jupyter",
     "OCaml",
     "",
     "text/x-ocaml"
    ],
    [
     "SoS",
     "sos",
     "",
     "",
     "sos"
    ]
   ],
   "version": "0.22.3"
  }
 },
 "nbformat": 4,
 "nbformat_minor": 5
}
