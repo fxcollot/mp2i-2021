{
 "cells": [
  {
   "cell_type": "markdown",
   "metadata": {},
   "source": [
    "# <center><a href='https://mybinder.org/v2/gh/fortierq/binder-mp2i/main?urlpath=git-pull%3Frepo%3Dhttps%253A%252F%252Fgithub.com%252Fmp2i-fsm%252Fmp2i-2021%26urlpath%3Dlab%252Ftree%252Fmp2i-2021%252F8_string%252Ftp%252Ftp1_string_search.ipynb%26branch%3Dmain'>TP : Benchmark pour la recherche de sous-mot <img src=https://mybinder.org/badge.svg></a></center>\n",
    "\n",
    "L'objectif de ce TP est de comparer la vitesse de plusieurs algorithmes de recherche de mot dans un texte. L'idéal est de recoder par vous-même les algorithmes. Si vous n'y arrivez pas, regardez le cours ou demandez-moi.\n",
    "\n",
    "## Algorithme naïf\n",
    "\n",
    "Dans ce premier algorithme, pour chercher un mot $w$ de taille $k$ on regarde chaque fenêtre de taille $k$ que l'on compare avec $w$ (remarque : on peut directement comparer 2 chaînes de caractères avec `=`)."
   ]
  },
  {
   "cell_type": "markdown",
   "metadata": {
    "tags": [
     "exo"
    ]
   },
   "source": [
    "**Exercice** : Écrire une fonction `naive` permettant de savoir si un mot apparaît dans un texte. Par exemple, `naive \"hello world\" \"world\"` renvoie `true`.  \n",
    "On pourra utiliser `String.sub` pour extraire un sous-mot, où `String.sub s i k` extrait le sous-mot de `s` à partir de l'indice `i` et de taille `k`."
   ]
  },
  {
   "cell_type": "markdown",
   "metadata": {},
   "source": [
    "Pour faire des benchmarks, on pourra utiliser la fonction suivante, qui teste la fonction `f` sur le fichier `file` en y cherchant le mot `w`. `v` est un booléen indiquant si le mot est effectivement présente (pour vérifier que la fonction a bien renvoyé la bonne valeur) :"
   ]
  },
  {
   "cell_type": "code",
   "execution_count": 1,
   "metadata": {
    "execution": {
     "iopub.execute_input": "2022-04-01T08:17:40.240333Z",
     "iopub.status.busy": "2022-04-01T08:17:40.239811Z",
     "iopub.status.idle": "2022-04-01T08:17:40.252445Z",
     "shell.execute_reply": "2022-04-01T08:17:40.252844Z"
    },
    "vscode": {
     "languageId": "ocaml"
    }
   },
   "outputs": [
    {
     "data": {
      "text/plain": [
       "val benchmark : (string -> 'a -> 'b) -> string -> 'a -> 'b -> float = <fun>\n"
      ]
     },
     "execution_count": 1,
     "metadata": {},
     "output_type": "execute_result"
    }
   ],
   "source": [
    "let benchmark f file w v =\n",
    "  let file = open_in file in\n",
    "  let rec read () =\n",
    "      try let l = input_line file in l^(read ())\n",
    "      with End_of_file -> \"\" in\n",
    "  let file = read () in\n",
    "  let t = Sys.time () in\n",
    "  (* Format.printf \"%s@.\" (read ()): *)\n",
    "  assert (f file w = v);\n",
    "  Sys.time() -. t"
   ]
  },
  {
   "cell_type": "markdown",
   "metadata": {},
   "source": [
    "`benchmark f file w v` déclenche une exception si `f` ne renvoie pas la valeur `v`, et sinon renvoie le temps d'exécution de la fonction (en secondes). Par exemple, en utilisant un fichier du code source de GCC :"
   ]
  },
  {
   "cell_type": "code",
   "execution_count": 2,
   "metadata": {
    "execution": {
     "iopub.execute_input": "2022-04-01T08:17:40.255081Z",
     "iopub.status.busy": "2022-04-01T08:17:40.254514Z",
     "iopub.status.idle": "2022-04-01T08:17:40.259320Z",
     "shell.execute_reply": "2022-04-01T08:17:40.258830Z"
    },
    "vscode": {
     "languageId": "ocaml"
    }
   },
   "outputs": [
    {
     "ename": "error",
     "evalue": "compile_error",
     "output_type": "error",
     "traceback": [
      "File \"[2]\", line 1, characters 10-15:\n1 | benchmark naive \"gcc.cc\" \"int\" true\n              ^^^^^\nError: Unbound value naive\nHint: Did you mean raise?\n"
     ]
    }
   ],
   "source": [
    "benchmark naive \"gcc.cc\" \"int\" true"
   ]
  },
  {
   "cell_type": "markdown",
   "metadata": {},
   "source": [
    "## Algorithme de Rabin-Karp\n",
    "\n",
    "Rabin-Karp calcule un hash (un entier donné par une fonction de hachage) de chaque sous-chaîne du texte, qui est comparé avec le hash du mot cherché.  \n",
    "Étant donné un mot $w = w_0...w_{k - 1}$, un entier $b$ (le nombre de caractères possibles) et un entier $q$, on définit $h(w) \\in \\{0, ..., q - 1\\}$ par :\n",
    "$$h(w) = \\sum_{i = 0}^{n - 1} \\text{code}(w_i) b^{n - 1 - i} \\mod q$$\n",
    "\n",
    "où $\\text{code}(w_i)$ est le code de la lettre $w_i$ (par exemple, le code ASCII, donné par `Char.code`).\n"
   ]
  },
  {
   "cell_type": "markdown",
   "metadata": {
    "tags": [
     "exo"
    ]
   },
   "source": [
    "**Exercice** : Écrire une fonction `hash b q s` calculant le hash de la chaîne `s` avec $b$ caractères et $q$ comme modulo."
   ]
  },
  {
   "cell_type": "markdown",
   "metadata": {
    "tags": [
     "exo"
    ]
   },
   "source": [
    "**Exercice** : Écrire une fonction `pow a n q` renvoyant $a^n \\mod q$. Cette fonction sera utile pour mettre à jour le hash d'une fenêtre."
   ]
  },
  {
   "cell_type": "markdown",
   "metadata": {
    "tags": [
     "exo"
    ]
   },
   "source": [
    "**Exercice** : Écrire une fonction `rabin_karp text w` appliquant l'algorithme de Rabin-Karp. Plutôt que de recalculer le hash de chaque fenêtre, on mettra à jour le hash de la fenêtre précédente plutôt qu'utiliser la fonction précédente à chaque fois."
   ]
  },
  {
   "cell_type": "markdown",
   "metadata": {
    "tags": [
     "exo"
    ]
   },
   "source": [
    "**Exercice** : Tester `rabin_karp` et comparer le temps d'exécution avec `naive`. On pourra tester avec des longs mots."
   ]
  },
  {
   "cell_type": "markdown",
   "metadata": {},
   "source": [
    "## Algorithme de Boyer-Moore\n",
    "\n",
    "Boyer-Moore commence par calculer un dictionnaire d qui à chaque caractère d'un mot associe l'indice de sa première apparition par rapport à la fin.  \n",
    "Exemple : si w = \"CGGCAG\" alors d associe 1 à A, 2 à C, 3 à G.\n",
    "\n",
    "Voici un exemple de création de dictionnaire avec Map :"
   ]
  },
  {
   "cell_type": "code",
   "execution_count": 3,
   "metadata": {
    "execution": {
     "iopub.execute_input": "2022-04-01T08:17:40.261200Z",
     "iopub.status.busy": "2022-04-01T08:17:40.260756Z",
     "iopub.status.idle": "2022-04-01T08:17:40.276318Z",
     "shell.execute_reply": "2022-04-01T08:17:40.276659Z"
    },
    "vscode": {
     "languageId": "ocaml"
    }
   },
   "outputs": [
    {
     "data": {
      "text/plain": [
       "- : int option = Some 1\n"
      ]
     },
     "execution_count": 3,
     "metadata": {},
     "output_type": "execute_result"
    }
   ],
   "source": [
    "let module M = Map.Make(String) in\n",
    "let d = M.empty in (* dictionnaire vide *)\n",
    "let d1 = M.add \"a\" 1 d in (* renvoie un dictionnaire avec l'association \"a\" -> 1 *)\n",
    "M.find_opt \"a\" d1 (* renvoie None ou Some(v) où v est la valeur associée à la clé \"a\" *)"
   ]
  },
  {
   "cell_type": "markdown",
   "metadata": {
    "tags": [
     "exo"
    ]
   },
   "source": [
    "**Exercice** : Écrire une fonction ayant un mot en argument et renvoyant le dictionnaire d."
   ]
  },
  {
   "cell_type": "markdown",
   "metadata": {},
   "source": [
    "On regarde ensuite, pour chaque indice $i$ du texte, si la fenêtre terminant en $i$ correspond au mot $w$ qu'on cherche. Pour cela, on regarde les lettres de $w$ de droite à gauche. Si une lettre de $w$ est différente de la lettre $a$ correspondante dans le texte, on décale d'un nombre de caractères égal au décalage de $a$ dans le dictionnaire (si $a$ n'est pas dans le dictionnaire ou si le décalage donne un prochain indice inférieur à $i$, on décale $i$ de 1 seulement). À chaque fois que l'on passe à une nouvelle fenêtre, il faut refaire la comparaison avec le mot en entier (et toujours de droite à gauche)."
   ]
  },
  {
   "cell_type": "markdown",
   "metadata": {
    "tags": [
     "exo"
    ]
   },
   "source": [
    "**Exercice** : Écrire une fonction `boyer_moore text w` déterminant si `w` apparaît dans `text`."
   ]
  },
  {
   "cell_type": "markdown",
   "metadata": {
    "tags": [
     "exo"
    ]
   },
   "source": [
    "**Exercice** : Faire des comparaisons de vitesse avec la fonction `benchmark`."
   ]
  }
 ],
 "metadata": {
  "kernelspec": {
   "display_name": "OCaml default",
   "language": "OCaml",
   "name": "ocaml-jupyter"
  },
  "language_info": {
   "codemirror_mode": "text/x-ocaml",
   "file_extension": ".ml",
   "mimetype": "text/x-ocaml",
   "name": "OCaml",
   "nbconverter_exporter": null,
   "pygments_lexer": "OCaml",
   "version": "4.08.1"
  }
 },
 "nbformat": 4,
 "nbformat_minor": 4
}
