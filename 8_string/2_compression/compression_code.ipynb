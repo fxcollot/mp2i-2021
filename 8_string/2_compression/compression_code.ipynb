{
 "cells": [
  {
   "cell_type": "markdown",
   "metadata": {},
   "source": [
    "# <center><a href='https://mybinder.org/v2/gh/fortierq/binder-mp2i/main?urlpath=git-pull%3Frepo%3Dhttps%253A%252F%252Fgithub.com%252Fmp2i-fsm%252Fmp2i-2021%26urlpath%3Dlab%252Ftree%252Fmp2i-2021%252F8_string%252F2_compression%252Fcompression_code.ipynb%26branch%3Dmain'>Code pour le cours Compression <img src=https://mybinder.org/badge.svg></a></center>\n",
    "\n",
    "## Run-Length Encoding"
   ]
  },
  {
   "cell_type": "code",
   "execution_count": 1,
   "metadata": {
    "execution": {
     "iopub.execute_input": "2022-04-09T19:12:53.264881Z",
     "iopub.status.busy": "2022-04-09T19:12:53.264251Z",
     "iopub.status.idle": "2022-04-09T19:12:53.277052Z",
     "shell.execute_reply": "2022-04-09T19:12:53.277450Z"
    },
    "vscode": {
     "languageId": "json"
    }
   },
   "outputs": [
    {
     "data": {
      "text/plain": [
       "val rle_code : string -> (char * int) list = <fun>\n"
      ]
     },
     "execution_count": 1,
     "metadata": {},
     "output_type": "execute_result"
    }
   ],
   "source": [
    "let rle_code s =\n",
    "    let ind = ref s.[0] in\n",
    "    let nb = ref 1 in\n",
    "    let l = ref [] in\n",
    "    for i = 1 to String.length s - 1 do\n",
    "        if !ind <> s.[i] then (\n",
    "            l := (!ind, !nb)::!l;\n",
    "            ind := s.[i];\n",
    "            nb := 1\n",
    "        )\n",
    "        else incr nb\n",
    "    done;\n",
    "    List.rev ((!ind, !nb)::!l)"
   ]
  },
  {
   "cell_type": "code",
   "execution_count": 2,
   "metadata": {
    "execution": {
     "iopub.execute_input": "2022-04-09T19:12:53.279302Z",
     "iopub.status.busy": "2022-04-09T19:12:53.278845Z",
     "iopub.status.idle": "2022-04-09T19:12:53.285592Z",
     "shell.execute_reply": "2022-04-09T19:12:53.285220Z"
    },
    "vscode": {
     "languageId": "json"
    }
   },
   "outputs": [
    {
     "data": {
      "text/plain": [
       "val rle_decode : (char * int) list -> string = <fun>\n"
      ]
     },
     "execution_count": 2,
     "metadata": {},
     "output_type": "execute_result"
    }
   ],
   "source": [
    "let rec rle_decode = function\n",
    "    | [] -> \"\"\n",
    "    | (c, n)::q -> (String.make n c)^rle_decode q"
   ]
  },
  {
   "cell_type": "markdown",
   "metadata": {},
   "source": [
    "## Codage de Huffman\n",
    "\n",
    "### Construction de l'arbre de Huffman"
   ]
  },
  {
   "cell_type": "code",
   "execution_count": 3,
   "metadata": {
    "execution": {
     "iopub.execute_input": "2022-04-09T19:12:53.287539Z",
     "iopub.status.busy": "2022-04-09T19:12:53.287059Z",
     "iopub.status.idle": "2022-04-09T19:12:53.294942Z",
     "shell.execute_reply": "2022-04-09T19:12:53.295235Z"
    },
    "vscode": {
     "languageId": "json"
    }
   },
   "outputs": [
    {
     "data": {
      "text/plain": [
       "val get_frequences : string -> int array = <fun>\n"
      ]
     },
     "execution_count": 3,
     "metadata": {},
     "output_type": "execute_result"
    }
   ],
   "source": [
    "let get_frequences text =\n",
    "    let freq = Array.make 256 0 in\n",
    "    for i = 0 to String.length text - 1 do\n",
    "        freq.(Char.code text.[i]) <- freq.(Char.code text.[i]) + 1\n",
    "    done;\n",
    "    freq"
   ]
  },
  {
   "cell_type": "code",
   "execution_count": 4,
   "metadata": {
    "execution": {
     "iopub.execute_input": "2022-04-09T19:12:53.297064Z",
     "iopub.status.busy": "2022-04-09T19:12:53.296580Z",
     "iopub.status.idle": "2022-04-09T19:12:53.298549Z",
     "shell.execute_reply": "2022-04-09T19:12:53.298942Z"
    },
    "vscode": {
     "languageId": "ocaml"
    }
   },
   "outputs": [
    {
     "data": {
      "text/plain": [
       "type 'a tree = F of 'a | N of 'a tree * 'a tree\n"
      ]
     },
     "execution_count": 4,
     "metadata": {},
     "output_type": "execute_result"
    }
   ],
   "source": [
    "type 'a tree = F of 'a | N of 'a tree * 'a tree"
   ]
  },
  {
   "cell_type": "markdown",
   "metadata": {},
   "source": [
    "On va utiliser la file de priorité suivante :"
   ]
  },
  {
   "cell_type": "code",
   "execution_count": 5,
   "metadata": {
    "execution": {
     "iopub.execute_input": "2022-04-09T19:12:53.300667Z",
     "iopub.status.busy": "2022-04-09T19:12:53.300209Z",
     "iopub.status.idle": "2022-04-09T19:12:53.310444Z",
     "shell.execute_reply": "2022-04-09T19:12:53.310037Z"
    },
    "vscode": {
     "languageId": "ocaml"
    }
   },
   "outputs": [
    {
     "data": {
      "text/plain": [
       "module Q :\n",
       "  sig\n",
       "    type 'a t = E | N of 'a * 'a t * 'a t\n",
       "    val empty : unit -> 'a t ref\n",
       "    val is_empty : 'a t ref -> bool\n",
       "    val add : 'a -> 'a t ref -> unit\n",
       "    val take_min : 'a t ref -> 'a\n",
       "  end\n"
      ]
     },
     "execution_count": 5,
     "metadata": {},
     "output_type": "execute_result"
    }
   ],
   "source": [
    "module Q = struct\n",
    "  type 'a t = E | N of 'a * 'a t * 'a t\n",
    "  let empty () = ref E\n",
    "  let is_empty t = !t = E\n",
    "  let add x t =\n",
    "    let rec aux = function\n",
    "      | E -> N(x, E, E)\n",
    "      | N(r, g, d) -> if x < r then N(r, aux g, d) else N(r, g, aux d) in\n",
    "    t := aux !t\n",
    "  let take_min t = \n",
    "    let rec aux = function\n",
    "      | E -> failwith \"take_min\"\n",
    "      | N(r, g, d) -> if g = E then r, d \n",
    "                      else \n",
    "                        let m, g = aux g in\n",
    "                        m, N(r, g, d) in\n",
    "    let m, t_ = aux !t in \n",
    "    t := t_;\n",
    "    m\n",
    "end"
   ]
  },
  {
   "cell_type": "code",
   "execution_count": 6,
   "metadata": {
    "execution": {
     "iopub.execute_input": "2022-04-09T19:12:53.312113Z",
     "iopub.status.busy": "2022-04-09T19:12:53.311719Z",
     "iopub.status.idle": "2022-04-09T19:12:53.318613Z",
     "shell.execute_reply": "2022-04-09T19:12:53.318195Z"
    },
    "vscode": {
     "languageId": "ocaml"
    }
   },
   "outputs": [
    {
     "data": {
      "text/plain": [
       "val make_huffman_tree : int array -> char tree = <fun>\n"
      ]
     },
     "execution_count": 6,
     "metadata": {},
     "output_type": "execute_result"
    }
   ],
   "source": [
    "let make_huffman_tree freq =\n",
    "    let q = Q.empty () in\n",
    "    let n = ref 0 in\n",
    "    for i = 0 to 255 do \n",
    "        if freq.(i) > 0 then (\n",
    "            incr n;\n",
    "            Q.add (freq.(i), F(Char.chr i)) q\n",
    "        )\n",
    "    done;\n",
    "    for _ = 0 to !n - 2 do\n",
    "        let f1, t1 = Q.take_min q in\n",
    "        let f2, t2 = Q.take_min q in\n",
    "        Q.add (f1 + f2, N(t1, t2)) q\n",
    "    done;\n",
    "    snd (Q.take_min q)"
   ]
  },
  {
   "cell_type": "code",
   "execution_count": 7,
   "metadata": {
    "execution": {
     "iopub.execute_input": "2022-04-09T19:12:53.320331Z",
     "iopub.status.busy": "2022-04-09T19:12:53.319908Z",
     "iopub.status.idle": "2022-04-09T19:12:53.326668Z",
     "shell.execute_reply": "2022-04-09T19:12:53.326293Z"
    },
    "vscode": {
     "languageId": "ocaml"
    }
   },
   "outputs": [
    {
     "data": {
      "text/plain": [
       "val make_table : char tree -> int list array = <fun>\n"
      ]
     },
     "execution_count": 7,
     "metadata": {},
     "output_type": "execute_result"
    }
   ],
   "source": [
    "let make_table t =\n",
    "    let codes = Array.make 256 [] in\n",
    "    let rec aux path = function\n",
    "        | F(c) -> codes.(Char.code c) <- List.rev path\n",
    "        | N(g, d) -> aux (0::path) g; aux (1::path) d in\n",
    "    aux [] t;\n",
    "    codes"
   ]
  },
  {
   "cell_type": "markdown",
   "metadata": {},
   "source": [
    "### Compression"
   ]
  },
  {
   "cell_type": "code",
   "execution_count": 8,
   "metadata": {
    "execution": {
     "iopub.execute_input": "2022-04-09T19:12:53.328637Z",
     "iopub.status.busy": "2022-04-09T19:12:53.328220Z",
     "iopub.status.idle": "2022-04-09T19:12:53.333010Z",
     "shell.execute_reply": "2022-04-09T19:12:53.332669Z"
    },
    "vscode": {
     "languageId": "ocaml"
    }
   },
   "outputs": [
    {
     "data": {
      "text/plain": [
       "val compress_huffman : string -> int list = <fun>\n"
      ]
     },
     "execution_count": 8,
     "metadata": {},
     "output_type": "execute_result"
    }
   ],
   "source": [
    "let compress_huffman text =\n",
    "    let freq = get_frequences text in\n",
    "    let t = make_huffman_tree freq in\n",
    "    let table = make_table t in\n",
    "    let rec aux i = \n",
    "        if i = String.length text then []\n",
    "        else table.(Char.code text.[i]) @ aux (i + 1) in\n",
    "    aux 0"
   ]
  },
  {
   "cell_type": "code",
   "execution_count": 9,
   "metadata": {
    "execution": {
     "iopub.execute_input": "2022-04-09T19:12:53.334776Z",
     "iopub.status.busy": "2022-04-09T19:12:53.334359Z",
     "iopub.status.idle": "2022-04-09T19:12:53.341849Z",
     "shell.execute_reply": "2022-04-09T19:12:53.341434Z"
    },
    "scrolled": true,
    "vscode": {
     "languageId": "ocaml"
    }
   },
   "outputs": [
    {
     "data": {
      "text/plain": [
       "val coded_text : int list =\n",
       "  [0; 0; 1; 0; 1; 1; 0; 0; 1; 0; 0; 1; 1; 1; 0; 0; 0; 1; 1; 0; 1; 1; 1; 0; 1;\n",
       "   0; 1; 1; 1; 1; 0; 0; 0; 0; 0; 1; 1; 1; 1; 1; 1; 0; 1; 1; 1; 1; 0; 1; 0; 1;\n",
       "   1; 1; 1; 1; 1; 1; 0; 0; 1; 0; 1; 0; 1; 0; 0; 0; 1; 0; 0; 0; 0; 1; 1; 1; 0;\n",
       "   1; 1; 0; 0; 1; 1; 1; 0; 0; 0; 0; 1; 1; 0; 1; 0; 1; 0; 0; 0; 0; 0; 1; 1; 1;\n",
       "   1; 0; 0; 1; 0; 1; 1; 1; 1; 0; 1; 0; 1; 0; 1; 0; 0; 1; 1; 0; 0; 0; 0; 1; 1;\n",
       "   0; 1; 1; 0; 0; 1; 1; 1; 0; 1; 1; 0; 1; 0; 1; 0; 0; 0; 1; 0; 1; 1; 0; 1; 1;\n",
       "   0; 0; 0; 0; 1; 1; 0; 0; 0; 0; 0; 0; 1; 1; 1; 0; 0; 0; 1; 1; 0; 1; 1; 0; 0;\n",
       "   1; 1; 1; 0; 0; 0; 0; 0; 1; 0; 1; 1; 0; 1; 1; 1; 1; 0; 1; 1; 1; 0; 0; 1; 0;\n",
       "   1; 0; 1; 1; 0; 1; 1; 1; 0; 0; 1; 0; 1; 1; 0; 0; 1; 0; 1; 0; 0; 0; 1; 1; 1;\n",
       "   0; 1; 1; 0; 1; 1; 0; 0; 1; 1; 0; 0; 0; 1; 1; 1; 0; 1; 1; 1; 1; 1; 1; 1; 1;\n",
       "   1; 0; 0; 1; 0; 1; 0; 1; 0; 1; 1; 0; 1; 1; 0; 1; 1; 0; 0; 0; 0; 0; 0; 1; 1;\n",
       "   0; 0; 0; 1; 1; 0; 0; 0; 1; 0; 1; 1; 0; 1; 1; 0; 0; 1; 0; 1; 0; 0; 0; 1;\n",
       "   ...]\n"
      ]
     },
     "execution_count": 9,
     "metadata": {},
     "output_type": "execute_result"
    }
   ],
   "source": [
    "let coded_text = compress_huffman \"Un algorithme est une suite finie et non ambiguë d'instructions et d'opérations permettant de résoudre une classe de problèmes. Le mot algorithme vient d'Al-Khwârizmî (en arabe : الخوارزمي)2, nom d'un mathématicien persan du IXe siècle. Le domaine qui étudie les algorithmes est appelé l'algorithmique. On retrouve aujourd'hui des algorithmes dans de nombreuses applications telles que le fonctionnement des ordinateurs3, la cryptographie, le routage d'informations, la planification et l'utilisation optimale des ressources, le traitement d'images, le traitement de textes, la bio-informatique, etc. \""
   ]
  },
  {
   "cell_type": "code",
   "execution_count": 10,
   "metadata": {
    "execution": {
     "iopub.execute_input": "2022-04-09T19:12:53.343509Z",
     "iopub.status.busy": "2022-04-09T19:12:53.343113Z",
     "iopub.status.idle": "2022-04-09T19:12:53.344993Z",
     "shell.execute_reply": "2022-04-09T19:12:53.345311Z"
    },
    "vscode": {
     "languageId": "ocaml"
    }
   },
   "outputs": [
    {
     "data": {
      "text/plain": [
       "- : int = 358\n"
      ]
     },
     "execution_count": 10,
     "metadata": {},
     "output_type": "execute_result"
    }
   ],
   "source": [
    "(List.length coded_text) / 8 (* nombre d'octets *)"
   ]
  },
  {
   "cell_type": "markdown",
   "metadata": {},
   "source": [
    "### Décompression"
   ]
  },
  {
   "cell_type": "code",
   "execution_count": 11,
   "metadata": {
    "execution": {
     "iopub.execute_input": "2022-04-09T19:12:53.347011Z",
     "iopub.status.busy": "2022-04-09T19:12:53.346554Z",
     "iopub.status.idle": "2022-04-09T19:12:53.353732Z",
     "shell.execute_reply": "2022-04-09T19:12:53.353387Z"
    },
    "vscode": {
     "languageId": "ocaml"
    }
   },
   "outputs": [
    {
     "data": {
      "text/plain": [
       "val decode_huffman : char tree -> int list -> string = <fun>\n"
      ]
     },
     "execution_count": 11,
     "metadata": {},
     "output_type": "execute_result"
    }
   ],
   "source": [
    "let rec decode_huffman t code =\n",
    "    let rec read_char t l = match t, l with\n",
    "        | F(c), _ -> c, l\n",
    "        | N(g, d), 0::q -> read_char g q\n",
    "        | N(g, d), 1::q -> read_char d q\n",
    "        | _ -> failwith \"codage incorrect\" in\n",
    "    if code = [] then \"\"\n",
    "    else let c, l = read_char t code in\n",
    "    (String.make 1 c)^decode_huffman t l"
   ]
  },
  {
   "cell_type": "code",
   "execution_count": 12,
   "metadata": {
    "execution": {
     "iopub.execute_input": "2022-04-09T19:12:53.355314Z",
     "iopub.status.busy": "2022-04-09T19:12:53.354929Z",
     "iopub.status.idle": "2022-04-09T19:12:53.356995Z",
     "shell.execute_reply": "2022-04-09T19:12:53.356646Z"
    },
    "scrolled": true,
    "vscode": {
     "languageId": "ocaml"
    }
   },
   "outputs": [
    {
     "ename": "error",
     "evalue": "compile_error",
     "output_type": "error",
     "traceback": [
      "File \"[12]\", line 1, characters 15-16:\n1 | decode_huffman t coded_text\n                   ^\nError: Unbound value t\n"
     ]
    }
   ],
   "source": [
    "decode_huffman t coded_text"
   ]
  },
  {
   "cell_type": "markdown",
   "metadata": {},
   "source": [
    "On est passé à une taille de 620 octets à 358, soit un gain de $42$% :"
   ]
  },
  {
   "cell_type": "code",
   "execution_count": 13,
   "metadata": {
    "execution": {
     "iopub.execute_input": "2022-04-09T19:12:53.358977Z",
     "iopub.status.busy": "2022-04-09T19:12:53.358514Z",
     "iopub.status.idle": "2022-04-09T19:12:53.360439Z",
     "shell.execute_reply": "2022-04-09T19:12:53.360799Z"
    },
    "vscode": {
     "languageId": "ocaml"
    }
   },
   "outputs": [
    {
     "data": {
      "text/plain": [
       "- : float = 0.422580645161290347\n"
      ]
     },
     "execution_count": 13,
     "metadata": {},
     "output_type": "execute_result"
    }
   ],
   "source": [
    "1. -. 358./.620."
   ]
  },
  {
   "cell_type": "markdown",
   "metadata": {},
   "source": [
    "Pour pouvoir décompresser, il faut aussi stocker l'arbre de Huffman dans un fichier, en le sérialisant (transformation en chaîne de caractères) :"
   ]
  },
  {
   "cell_type": "code",
   "execution_count": 14,
   "metadata": {
    "execution": {
     "iopub.execute_input": "2022-04-09T19:12:53.362620Z",
     "iopub.status.busy": "2022-04-09T19:12:53.362156Z",
     "iopub.status.idle": "2022-04-09T19:12:53.365552Z",
     "shell.execute_reply": "2022-04-09T19:12:53.365912Z"
    },
    "vscode": {
     "languageId": "ocaml"
    }
   },
   "outputs": [
    {
     "data": {
      "text/plain": [
       "val serialize_tree : char tree -> char list = <fun>\n"
      ]
     },
     "execution_count": 14,
     "metadata": {},
     "output_type": "execute_result"
    }
   ],
   "source": [
    "let rec serialize_tree = function\n",
    "| F c -> ['*'; c]\n",
    "| N (g, d) -> '#'::(serialize_tree g)@serialize_tree d"
   ]
  },
  {
   "cell_type": "code",
   "execution_count": 15,
   "metadata": {
    "execution": {
     "iopub.execute_input": "2022-04-09T19:12:53.367591Z",
     "iopub.status.busy": "2022-04-09T19:12:53.367075Z",
     "iopub.status.idle": "2022-04-09T19:12:53.368774Z",
     "shell.execute_reply": "2022-04-09T19:12:53.369111Z"
    },
    "scrolled": true,
    "vscode": {
     "languageId": "ocaml"
    }
   },
   "outputs": [
    {
     "ename": "error",
     "evalue": "compile_error",
     "output_type": "error",
     "traceback": [
      "File \"[15]\", line 1, characters 30-31:\n1 | let t_serial = serialize_tree t\n                                  ^\nError: Unbound value t\n"
     ]
    }
   ],
   "source": [
    "let t_serial = serialize_tree t"
   ]
  },
  {
   "cell_type": "code",
   "execution_count": 16,
   "metadata": {
    "execution": {
     "iopub.execute_input": "2022-04-09T19:12:53.370822Z",
     "iopub.status.busy": "2022-04-09T19:12:53.370368Z",
     "iopub.status.idle": "2022-04-09T19:12:53.374842Z",
     "shell.execute_reply": "2022-04-09T19:12:53.374499Z"
    },
    "vscode": {
     "languageId": "ocaml"
    }
   },
   "outputs": [
    {
     "ename": "error",
     "evalue": "compile_error",
     "output_type": "error",
     "traceback": [
      "File \"[16]\", line 9, characters 12-20:\n9 | deserialize t_serial\n                ^^^^^^^^\nError: Unbound value t_serial\n"
     ]
    }
   ],
   "source": [
    "let deserialize l = \n",
    "    let rec read_tree = function\n",
    "        | '*'::c::q -> F(c), q\n",
    "        | '#'::q -> let g, q1 = read_tree q in\n",
    "                    let d, q2 = read_tree q1 in\n",
    "                    N(g, d), q2 \n",
    "        | _ -> failwith \"deserialize\" in\n",
    "    fst (read_tree l) in\n",
    "deserialize t_serial"
   ]
  },
  {
   "cell_type": "markdown",
   "metadata": {},
   "source": [
    "## LZW"
   ]
  },
  {
   "cell_type": "code",
   "execution_count": 17,
   "metadata": {
    "execution": {
     "iopub.execute_input": "2022-04-09T19:12:53.376384Z",
     "iopub.status.busy": "2022-04-09T19:12:53.375935Z",
     "iopub.status.idle": "2022-04-09T19:12:53.393091Z",
     "shell.execute_reply": "2022-04-09T19:12:53.392685Z"
    },
    "vscode": {
     "languageId": "ocaml"
    }
   },
   "outputs": [
    {
     "data": {
      "text/plain": [
       "val code : string -> int list * (int, string) Hashtbl.t = <fun>\n"
      ]
     },
     "execution_count": 17,
     "metadata": {},
     "output_type": "execute_result"
    }
   ],
   "source": [
    "let code s =\n",
    "  let n = String.length s in\n",
    "  let d = Hashtbl.create 13 in\n",
    "  let dinv = Hashtbl.create 13 in\n",
    "  let max_code = ref 0 in\n",
    "  let add_code k v =\n",
    "      Hashtbl.add d k v;\n",
    "      Hashtbl.add dinv v k in\n",
    "  for i = 0 to n - 1 do (* initialize d *)\n",
    "    if not (Hashtbl.mem d (String.sub s i 1)) then (\n",
    "      add_code (String.sub s i 1) !max_code;\n",
    "      incr max_code\n",
    "    )\n",
    "  done;\n",
    "  let rec aux i = (* returns compression of s[i:] *)\n",
    "    if i >= String.length s then []\n",
    "    else\n",
    "      let rec max_suffix j =\n",
    "        if j = n || not (Hashtbl.mem d (String.sub s i (j - i + 1))) then j\n",
    "        else max_suffix (j + 1) in\n",
    "      let j = max_suffix i in\n",
    "      let w = String.sub s i (j - i) in\n",
    "      if j < n then (\n",
    "        let w' = String.sub s i (j - i + 1) in\n",
    "        add_code w' (!max_code + 1);\n",
    "        incr max_code;\n",
    "      );\n",
    "      (Hashtbl.find d w)::aux j\n",
    "  in\n",
    "  aux 0, dinv"
   ]
  },
  {
   "cell_type": "code",
   "execution_count": 18,
   "metadata": {
    "execution": {
     "iopub.execute_input": "2022-04-09T19:12:53.394833Z",
     "iopub.status.busy": "2022-04-09T19:12:53.394437Z",
     "iopub.status.idle": "2022-04-09T19:12:53.397519Z",
     "shell.execute_reply": "2022-04-09T19:12:53.397152Z"
    },
    "vscode": {
     "languageId": "ocaml"
    }
   },
   "outputs": [
    {
     "data": {
      "text/plain": [
       "val c : int list = [0; 1; 2; 5; 3; 1; 9; 5]\n",
       "val dinv : (int, string) Hashtbl.t = <abstr>\n"
      ]
     },
     "execution_count": 18,
     "metadata": {},
     "output_type": "execute_result"
    }
   ],
   "source": [
    "let c, dinv = code \"barbapapaba\""
   ]
  },
  {
   "cell_type": "code",
   "execution_count": 19,
   "metadata": {
    "execution": {
     "iopub.execute_input": "2022-04-09T19:12:53.399460Z",
     "iopub.status.busy": "2022-04-09T19:12:53.399011Z",
     "iopub.status.idle": "2022-04-09T19:12:53.402211Z",
     "shell.execute_reply": "2022-04-09T19:12:53.401848Z"
    },
    "vscode": {
     "languageId": "ocaml"
    }
   },
   "outputs": [
    {
     "data": {
      "text/plain": [
       "val lzw_decode : int list -> string = <fun>\n"
      ]
     },
     "execution_count": 19,
     "metadata": {},
     "output_type": "execute_result"
    }
   ],
   "source": [
    "let rec lzw_decode = function\n",
    "    | [] -> \"\"\n",
    "    | e::q -> (Hashtbl.find dinv e)^lzw_decode q"
   ]
  },
  {
   "cell_type": "code",
   "execution_count": 20,
   "metadata": {
    "execution": {
     "iopub.execute_input": "2022-04-09T19:12:53.405032Z",
     "iopub.status.busy": "2022-04-09T19:12:53.404532Z",
     "iopub.status.idle": "2022-04-09T19:12:53.406427Z",
     "shell.execute_reply": "2022-04-09T19:12:53.405453Z"
    },
    "vscode": {
     "languageId": "ocaml"
    }
   },
   "outputs": [
    {
     "data": {
      "text/plain": [
       "- : string = \"barbapapaba\"\n"
      ]
     },
     "execution_count": 20,
     "metadata": {},
     "output_type": "execute_result"
    }
   ],
   "source": [
    "lzw_decode c"
   ]
  }
 ],
 "metadata": {
  "kernelspec": {
   "display_name": "OCaml default",
   "language": "OCaml",
   "name": "ocaml-jupyter"
  },
  "language_info": {
   "codemirror_mode": "text/x-ocaml",
   "file_extension": ".ml",
   "mimetype": "text/x-ocaml",
   "name": "OCaml",
   "nbconverter_exporter": null,
   "pygments_lexer": "OCaml",
   "version": "4.08.1"
  }
 },
 "nbformat": 4,
 "nbformat_minor": 2
}
